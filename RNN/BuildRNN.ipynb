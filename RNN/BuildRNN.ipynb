{
 "cells": [
  {
   "cell_type": "markdown",
   "metadata": {},
   "source": [
    "# Stock Price Predictor"
   ]
  },
  {
   "cell_type": "markdown",
   "metadata": {},
   "source": [
    "## Setup and imports"
   ]
  },
  {
   "cell_type": "code",
   "execution_count": 1,
   "metadata": {},
   "outputs": [
    {
     "name": "stderr",
     "output_type": "stream",
     "text": [
      "Using TensorFlow backend.\n"
     ]
    }
   ],
   "source": [
    "import numpy as np\n",
    "import matplotlib.pyplot as plt\n",
    "import pandas as pd\n",
    "\n",
    "# we will need it for standardization\n",
    "from sklearn.preprocessing import MinMaxScaler\n",
    "\n",
    "# we will need them for the RNN\n",
    "from keras.models import Sequential\n",
    "from keras.layers import Dense\n",
    "from keras.layers import LSTM\n",
    "from keras.layers import Dropout"
   ]
  },
  {
   "cell_type": "markdown",
   "metadata": {},
   "source": [
    "## Import data\n",
    "Only the training set"
   ]
  },
  {
   "cell_type": "code",
   "execution_count": 2,
   "metadata": {},
   "outputs": [],
   "source": [
    "# reads the csv file and make a pandas data frame\n",
    "datasetTrain = pd.read_csv(\"Google_Stock_Price_Train.csv\")"
   ]
  },
  {
   "cell_type": "code",
   "execution_count": 3,
   "metadata": {},
   "outputs": [],
   "source": [
    "# takes only the desired col, col #1, we use 1:2 to make it a numpy array\n",
    "# if we miss the .values, it will remain a pandas object\n",
    "trainingSet = datasetTrain.iloc[:, 1:2].values"
   ]
  },
  {
   "cell_type": "markdown",
   "metadata": {},
   "source": [
    "## Data preparation\n",
    "### Feature Scaling\n",
    "We are going to use normalization, when we have a Sigmoid. it is better to use normalization"
   ]
  },
  {
   "cell_type": "code",
   "execution_count": 4,
   "metadata": {},
   "outputs": [],
   "source": [
    "scale = MinMaxScaler(feature_range= (0,1))\n",
    "# it will get the min and min of value and applies the formula to standardize\n",
    "scaledTrainingSet = scale.fit_transform(trainingSet)"
   ]
  },
  {
   "cell_type": "markdown",
   "metadata": {},
   "source": [
    "## Designing the RNN\n",
    "\n",
    "### Creating data structure with time step\n",
    "We should select the timestep, a timestep of 60 is the number of steps that the model is going to look back too in order to predict the next one. In this case, it is going to be 60 working days!"
   ]
  },
  {
   "cell_type": "code",
   "execution_count": 54,
   "metadata": {},
   "outputs": [
    {
     "name": "stdout",
     "output_type": "stream",
     "text": [
      "Wall time: 3.01 ms\n"
     ]
    }
   ],
   "source": [
    "%%time\n",
    "timeStep = 120\n",
    "\n",
    "XTrain = []\n",
    "YTrain = []\n",
    "\n",
    "for i in range(timeStep, scaledTrainingSet.shape[0]):\n",
    "    # it will assemble the data from the past 60 days in an array\n",
    "    # and save them in a large data set called XTrain\n",
    "    # don't forget to add the colomn index: 0\n",
    "    # then we want guess the price in the ith index, we save it in \n",
    "    # YTrain\n",
    "    XTrain.append(scaledTrainingSet[i-timeStep:i, 0])\n",
    "    YTrain.append([scaledTrainingSet[i,0]])\n",
    "\n",
    "# Don't forget to convert them to np arrays\n",
    "XTrain = np.array(XTrain)\n",
    "YTrain = np.array(YTrain)"
   ]
  },
  {
   "cell_type": "markdown",
   "metadata": {},
   "source": [
    "### Reshaping\n",
    "We need to change the data shape to match our RNN inputs: <br>\n",
    "XTrain.shape: (a,b,c) <br>\n",
    "a= number of observation or batch size, in this case number of prices that we have <br>\n",
    "b= time step <br>\n",
    "c= input dimension, if we have more than one data entry (price of stock, news, ...) <br>"
   ]
  },
  {
   "cell_type": "code",
   "execution_count": 55,
   "metadata": {},
   "outputs": [
    {
     "name": "stdout",
     "output_type": "stream",
     "text": [
      "(1138, 120, 1)\n"
     ]
    }
   ],
   "source": [
    "XTrain = np.reshape(XTrain, (XTrain.shape[0],XTrain.shape[1],1))\n",
    "print(XTrain.shape)"
   ]
  },
  {
   "cell_type": "markdown",
   "metadata": {},
   "source": [
    "### Initialize RNN\n",
    "\n",
    "Variables in LSTM layer <br>\n",
    "Units: number of neuron in the LSTM layer, we put it 50 for this complex task <br><br>\n",
    "Return sequence: true means we are making stacked model. For the last one we don't do that, because there is no next layer to send data for. <br><br>\n",
    "Shape: the same shape as the XTrain, but not the first one. The first one will be detected automatically."
   ]
  },
  {
   "cell_type": "code",
   "execution_count": 74,
   "metadata": {},
   "outputs": [
    {
     "name": "stdout",
     "output_type": "stream",
     "text": [
      "Wall time: 943 ms\n"
     ]
    }
   ],
   "source": [
    "%%time\n",
    "regressor =Sequential()\n",
    "dropoutRate = 0.2\n",
    "\n",
    "# add the LSTM and the dropout regularization\n",
    "regressor.add(LSTM(100,return_sequences= True,input_shape = (XTrain.shape[1],1)))\n",
    "regressor.add(Dropout(rate = dropoutRate))\n",
    "\n",
    "# add 2nd LSTM and the dropout regularization\n",
    "regressor.add(LSTM(100,return_sequences= True))\n",
    "regressor.add(Dropout(rate = dropoutRate))\n",
    "\n",
    "\n",
    "# add 3rd LSTM and the dropout regularization\n",
    "regressor.add(LSTM(100,return_sequences= True))\n",
    "regressor.add(Dropout(rate = dropoutRate))\n",
    "\n",
    "# add 4th LSTM and the dropout regularization\n",
    "regressor.add(LSTM(100))\n",
    "regressor.add(Dropout(rate = dropoutRate))\n",
    "\n",
    "# add the output layer\n",
    "regressor.add(Dense(units = 1))"
   ]
  },
  {
   "cell_type": "markdown",
   "metadata": {},
   "source": [
    "### Compile the RNN\n",
    "adam is the best optimizer for RNN"
   ]
  },
  {
   "cell_type": "code",
   "execution_count": 75,
   "metadata": {},
   "outputs": [],
   "source": [
    "regressor.compile(optimizer = 'adam', loss= 'mean_squared_error')"
   ]
  },
  {
   "cell_type": "code",
   "execution_count": 77,
   "metadata": {
    "scrolled": true
   },
   "outputs": [
    {
     "name": "stdout",
     "output_type": "stream",
     "text": [
      "Epoch 1/25\n",
      "1138/1138 [==============================] - 18s 15ms/step - loss: 0.0027\n",
      "Epoch 2/25\n",
      "1138/1138 [==============================] - 17s 15ms/step - loss: 0.0029\n",
      "Epoch 3/25\n",
      "1138/1138 [==============================] - 18s 16ms/step - loss: 0.0037\n",
      "Epoch 4/25\n",
      "1138/1138 [==============================] - 18s 16ms/step - loss: 0.0035\n",
      "Epoch 5/25\n",
      "1138/1138 [==============================] - 18s 15ms/step - loss: 0.0031\n",
      "Epoch 6/25\n",
      "1138/1138 [==============================] - 18s 15ms/step - loss: 0.0027\n",
      "Epoch 7/25\n",
      "1138/1138 [==============================] - 18s 15ms/step - loss: 0.0026\n",
      "Epoch 8/25\n",
      "1138/1138 [==============================] - 18s 15ms/step - loss: 0.0027\n",
      "Epoch 9/25\n",
      "1138/1138 [==============================] - 18s 16ms/step - loss: 0.0028\n",
      "Epoch 10/25\n",
      "1138/1138 [==============================] - 18s 16ms/step - loss: 0.0029\n",
      "Epoch 11/25\n",
      "1138/1138 [==============================] - 17s 15ms/step - loss: 0.0026\n",
      "Epoch 12/25\n",
      "1138/1138 [==============================] - 18s 16ms/step - loss: 0.0028\n",
      "Epoch 13/25\n",
      "1138/1138 [==============================] - 17s 15ms/step - loss: 0.0022\n",
      "Epoch 14/25\n",
      "1138/1138 [==============================] - 17s 15ms/step - loss: 0.0023\n",
      "Epoch 15/25\n",
      "1138/1138 [==============================] - 17s 15ms/step - loss: 0.0025\n",
      "Epoch 16/25\n",
      "1138/1138 [==============================] - 17s 15ms/step - loss: 0.0025\n",
      "Epoch 17/25\n",
      "1138/1138 [==============================] - 17s 15ms/step - loss: 0.0025\n",
      "Epoch 18/25\n",
      "1138/1138 [==============================] - 17s 15ms/step - loss: 0.0022\n",
      "Epoch 19/25\n",
      "1138/1138 [==============================] - 17s 15ms/step - loss: 0.0023\n",
      "Epoch 20/25\n",
      "1138/1138 [==============================] - 17s 15ms/step - loss: 0.0024\n",
      "Epoch 21/25\n",
      "1138/1138 [==============================] - 17s 15ms/step - loss: 0.0022\n",
      "Epoch 22/25\n",
      "1138/1138 [==============================] - 17s 15ms/step - loss: 0.0023\n",
      "Epoch 23/25\n",
      "1138/1138 [==============================] - 17s 15ms/step - loss: 0.0024\n",
      "Epoch 24/25\n",
      "1138/1138 [==============================] - 17s 15ms/step - loss: 0.0022\n",
      "Epoch 25/25\n",
      "1138/1138 [==============================] - 17s 15ms/step - loss: 0.0026\n",
      "Wall time: 7min 14s\n"
     ]
    },
    {
     "data": {
      "text/plain": [
       "<keras.callbacks.History at 0x21f8e236208>"
      ]
     },
     "execution_count": 77,
     "metadata": {},
     "output_type": "execute_result"
    }
   ],
   "source": [
    "%%time\n",
    "regressor.fit(XTrain, YTrain, \n",
    "              epochs = 25,\n",
    "              batch_size = 64)"
   ]
  },
  {
   "cell_type": "markdown",
   "metadata": {},
   "source": [
    "### Evaluate"
   ]
  },
  {
   "cell_type": "code",
   "execution_count": 78,
   "metadata": {},
   "outputs": [
    {
     "data": {
      "text/plain": [
       "(20, 1)"
      ]
     },
     "execution_count": 78,
     "metadata": {},
     "output_type": "execute_result"
    }
   ],
   "source": [
    "datasetTest = pd.read_csv(\"Google_Stock_Price_Test.csv\")\n",
    "testSet = datasetTest.iloc[:, 1:2].values\n",
    "testSet.shape"
   ]
  },
  {
   "cell_type": "markdown",
   "metadata": {},
   "source": [
    "We should be really careful about scaling the test set. But we finally want to have unscaled prediction."
   ]
  },
  {
   "cell_type": "code",
   "execution_count": 79,
   "metadata": {},
   "outputs": [
    {
     "name": "stdout",
     "output_type": "stream",
     "text": [
      "1258\n"
     ]
    }
   ],
   "source": [
    "# concatenating data\n",
    "totalDataset = pd.concat((datasetTrain['Open'], datasetTest['Open']),axis = 0)\n",
    "totalSet = datasetTrain.iloc[:, 1:2].values\n",
    "print (len(totalSet))"
   ]
  },
  {
   "cell_type": "code",
   "execution_count": 80,
   "metadata": {},
   "outputs": [
    {
     "name": "stdout",
     "output_type": "stream",
     "text": [
      "(160, 1)\n"
     ]
    }
   ],
   "source": [
    "inputs = totalDataset[len(totalSet)-len(testSet)-timeStep:].values\n",
    "inputs = inputs.reshape(-1,1)\n",
    "inputs = scale.transform(inputs)\n",
    "print(inputs.shape)"
   ]
  },
  {
   "cell_type": "code",
   "execution_count": 81,
   "metadata": {},
   "outputs": [
    {
     "name": "stdout",
     "output_type": "stream",
     "text": [
      "(20, 120)\n"
     ]
    }
   ],
   "source": [
    "XTest = []\n",
    "for i in range (timeStep,timeStep+len(testSet)):\n",
    "    XTest.append(inputs[i-timeStep:i,0])\n",
    "XTest = np.array(XTest)\n",
    "print(XTest.shape)\n",
    "XTest = np.reshape(XTest, (XTest.shape[0],XTest.shape[1],1))"
   ]
  },
  {
   "cell_type": "markdown",
   "metadata": {},
   "source": [
    "### Predict"
   ]
  },
  {
   "cell_type": "code",
   "execution_count": 82,
   "metadata": {},
   "outputs": [
    {
     "name": "stdout",
     "output_type": "stream",
     "text": [
      "[[ 775.61010742]\n",
      " [ 775.4765625 ]\n",
      " [ 774.72399902]\n",
      " [ 773.69140625]\n",
      " [ 772.62677002]\n",
      " [ 771.92053223]\n",
      " [ 771.95037842]\n",
      " [ 772.94958496]\n",
      " [ 775.06536865]\n",
      " [ 778.25054932]\n",
      " [ 782.23199463]\n",
      " [ 786.67486572]\n",
      " [ 790.99835205]\n",
      " [ 794.86810303]\n",
      " [ 798.07958984]\n",
      " [ 800.48254395]\n",
      " [ 802.02093506]\n",
      " [ 802.75097656]\n",
      " [ 802.87542725]\n",
      " [ 802.40454102]]\n",
      "Wall time: 1.17 s\n"
     ]
    }
   ],
   "source": [
    "%%time\n",
    "predicted = regressor.predict(XTest)\n",
    "rescaledPredicted = scale.inverse_transform(predicted)\n",
    "print(rescaledPredicted)"
   ]
  },
  {
   "cell_type": "markdown",
   "metadata": {},
   "source": [
    "### Visualization"
   ]
  },
  {
   "cell_type": "code",
   "execution_count": 83,
   "metadata": {},
   "outputs": [
    {
     "data": {
      "image/png": "[encoded data removed]",
      "text/plain": [
       "<matplotlib.figure.Figure at 0x21f9a724128>"
      ]
     },
     "metadata": {},
     "output_type": "display_data"
    }
   ],
   "source": [
    "plt.plot(testSet,color = 'red', label= 'Real Price')\n",
    "plt.plot(rescaledPredicted, color = 'blue', label= 'Predicted Price')\n",
    "plt.title(\"Stock Price Prediction\")\n",
    "plt.xlabel('Time')\n",
    "plt.ylabel('USD')\n",
    "plt.legend()\n",
    "plt.show()"
   ]
  },
  {
   "cell_type": "code",
   "execution_count": 72,
   "metadata": {},
   "outputs": [
    {
     "data": {
      "image/png": "[encoded data removed]",
      "text/plain": [
       "<matplotlib.figure.Figure at 0x21f8e97af60>"
      ]
     },
     "metadata": {},
     "output_type": "display_data"
    }
   ],
   "source": [
    "plt.plot(testSet,color = 'red', label= 'Real Price')\n",
    "plt.plot(rescaledPredicted, color = 'blue', label= 'Predicted Price')\n",
    "plt.title(\"Stock Price Prediction\")\n",
    "plt.xlabel('Time')\n",
    "plt.ylabel('USD')\n",
    "plt.legend()\n",
    "plt.show()"
   ]
  },
  {
   "cell_type": "code",
   "execution_count": 46,
   "metadata": {},
   "outputs": [
    {
     "data": {
      "image/png": "[encoded data removed]",
      "text/plain": [
       "<matplotlib.figure.Figure at 0x21f747ad470>"
      ]
     },
     "metadata": {},
     "output_type": "display_data"
    }
   ],
   "source": [
    "plt.plot(testSet,color = 'red', label= 'Real Price')\n",
    "plt.plot(rescaledPredicted, color = 'blue', label= 'Predicted Price')\n",
    "plt.title(\"Stock Price Prediction\")\n",
    "plt.xlabel('Time')\n",
    "plt.ylabel('USD')\n",
    "plt.legend()\n",
    "plt.show()"
   ]
  },
  {
   "cell_type": "code",
   "execution_count": null,
   "metadata": {
    "collapsed": true
   },
   "outputs": [],
   "source": []
  },
  {
   "cell_type": "code",
   "execution_count": null,
   "metadata": {
    "collapsed": true
   },
   "outputs": [],
   "source": []
  }
 ],
 "metadata": {
  "kernelspec": {
   "display_name": "Python 3",
   "language": "python",
   "name": "python3"
  },
  "language_info": {
   "codemirror_mode": {
    "name": "ipython",
    "version": 3
   },
   "file_extension": ".py",
   "mimetype": "text/x-python",
   "name": "python",
   "nbconvert_exporter": "python",
   "pygments_lexer": "ipython3",
   "version": "3.6.3"
  }
 },
 "nbformat": 4,
 "nbformat_minor": 2
}
